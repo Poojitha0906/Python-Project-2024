{
 "cells": [
  {
   "cell_type": "code",
   "execution_count": null,
   "id": "c32d76dd-c9b5-4b70-a8b4-7334c783c92a",
   "metadata": {},
   "outputs": [
    {
     "name": "stdin",
     "output_type": "stream",
     "text": [
      "What's your age?  po\n"
     ]
    },
    {
     "name": "stdout",
     "output_type": "stream",
     "text": [
      "Invalid input. Please enter a numeric value for age.\n"
     ]
    },
    {
     "name": "stdin",
     "output_type": "stream",
     "text": [
      "What's your age?  po\n"
     ]
    },
    {
     "name": "stdout",
     "output_type": "stream",
     "text": [
      "Invalid input. Please enter a numeric value for age.\n"
     ]
    },
    {
     "name": "stdin",
     "output_type": "stream",
     "text": [
      "What's your age?  -0\n"
     ]
    },
    {
     "name": "stdout",
     "output_type": "stream",
     "text": [
      "Invalid input. Please enter a numeric value for age.\n"
     ]
    },
    {
     "name": "stdin",
     "output_type": "stream",
     "text": [
      "What's your age?  -1\n"
     ]
    },
    {
     "name": "stdout",
     "output_type": "stream",
     "text": [
      "Invalid input. Please enter a numeric value for age.\n"
     ]
    },
    {
     "name": "stdin",
     "output_type": "stream",
     "text": [
      "What's your age?  8\n"
     ]
    },
    {
     "name": "stdout",
     "output_type": "stream",
     "text": [
      "Your age is 8.\n"
     ]
    }
   ],
   "source": [
    "# Step 1: Function to calculate duration.\n",
    "def survival_duration(age, time_unit):\n",
    "    if time_unit.lower() == 'months' or time_unit.lower() == 'm':\n",
    "        return age * 12\n",
    "    elif time_unit.lower() == 'weeks' or time_unit.lower() == 'w':\n",
    "        return age * 52\n",
    "    elif time_unit.lower() == 'days' or time_unit.lower() == 'd':\n",
    "        return age * 365\n",
    "    elif time_unit.lower() == 'hours' or time_unit.lower() == 'h':\n",
    "        return age * 365 * 24\n",
    "    elif time_unit.lower() == 'minutes' or time_unit.lower() == 'min':\n",
    "        return age * 365 * 24 * 60\n",
    "    elif time_unit.lower() == 'seconds' or time_unit.lower() == 's':\n",
    "        return age * 365 * 24 * 60 * 60\n",
    "    else:\n",
    "        return \"Invalid time unit\"\n",
    "\n",
    "# Step 2: Take input from user\n",
    "age = input(\"What's your age? \")\n",
    "\n",
    "# Check if input is a valid number\n",
    "while not age.isdigit():\n",
    "    print(\"Invalid input. Please enter a numeric value for age.\")\n",
    "    age = input(\"What's your age? \")\n",
    "\n",
    "# Convert input to integer after checking\n",
    "age = int(age)\n",
    "\n",
    "if age < 0:\n",
    "    print(\"Age cannot be negative. Please enter a valid age.\")\n",
    "else:\n",
    "    print(f\"Your age is {age}.\")\n",
    "time_unit = input(\"Please choose time unit: Months, Weeks, Days, Hours, Minutes, Seconds.\\nNote: You can write the first letter or the full name of the time unit: \")\n",
    "\n",
    "# Step 3: Output\n",
    "result = survival_duration(age, time_unit)\n",
    "print(f\"You lived for {result} {time_unit.lower()}.\")\n"
   ]
  }
 ],
